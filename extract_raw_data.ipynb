{
 "cells": [
  {
   "cell_type": "code",
   "execution_count": 1,
   "metadata": {},
   "outputs": [],
   "source": [
    "# import os, sys, math\n",
    "import pandas as pd\n",
    "import re"
   ]
  },
  {
   "cell_type": "code",
   "execution_count": 2,
   "metadata": {},
   "outputs": [],
   "source": [
    "# the function return amino acid with 1 beta Chain only \n",
    "def aa_one_beta_chain(D):\n",
    "    # Take TRB chain out aa column \n",
    "    D['cell_clono_cdr3_aa_TRB'] = D.apply(lambda x : re.findall('TRB:.*', x['cell_clono_cdr3_aa']),axis=1)\n",
    "    D['cell_clono_cdr3_aa_TRB_count'] = D.apply(lambda x : x['cell_clono_cdr3_aa'].count('TRB'),axis=1)\n",
    "    D['cell_clono_cdr3_aa_TRB_count'] = D.apply(lambda x : x['cell_clono_cdr3_aa'].count('TRB'),axis=1)\n",
    "    \n",
    "    \n",
    "    # take out the cells with one TRB  \n",
    "    D = D[D['cell_clono_cdr3_aa_TRB_count'] == 1]\n",
    "    \n",
    "    \n",
    "    # remove the string \"TRB:\", \"[\" and \"]\"\n",
    "    D['aa_1TRB_only'] = D.apply(lambda x : str(x['cell_clono_cdr3_aa_TRB']).replace('TRB:',''),axis=1)\n",
    "    D['aa_1TRB_only'] = D.apply(lambda x : str(x['aa_1TRB_only']).replace('[',''),axis=1)\n",
    "    D['aa_1TRB_only'] = D.apply(lambda x : str(x['aa_1TRB_only']).replace(']',''),axis=1)\n",
    "    D['aa_1TRB_only'] = D.apply(lambda x : str(x['aa_1TRB_only']).strip('\\''),axis=1)\n",
    "    \n",
    "\n",
    "    return D"
   ]
  },
  {
   "cell_type": "code",
   "execution_count": 3,
   "metadata": {},
   "outputs": [],
   "source": [
    "def max_true_binder (all_D_binder, num_virus_with_most_binding = 1):\n",
    "\n",
    "\n",
    "    # show the binder percentage \n",
    "    from numpy import empty\n",
    "    binder_count = empty([len(all_D_binder.columns),2])\n",
    "\n",
    "    for k in range(0,len(all_D_binder.columns)):\n",
    "        binder_count[k][0]= (all_D_binder[all_D_binder.columns[k]]).sum()\n",
    "        binder_count[k][1]= (~all_D_binder[all_D_binder.columns[k]]).sum()\n",
    "    \n",
    "    \n",
    "\n",
    "    sorted(range(len(binder_count[:,:1])), key=lambda x: binder_count[x,:1])\n",
    "    max_loc = sorted(range(len(binder_count[:,:1])), key=lambda x: binder_count[x,:1])[-num_virus_with_most_binding:]\n",
    "    \n",
    "    all_D_binder.iloc[:,max_loc]\n",
    "\n",
    "    return all_D_binder.iloc[:,max_loc]"
   ]
  },
  {
   "cell_type": "code",
   "execution_count": 4,
   "metadata": {},
   "outputs": [],
   "source": [
    "def extra_raw_data(): \n",
    "    # import raw data \n",
    "    D1 = pd.read_csv(\"../CD8+TCellsDataset/vdj_v1_hs_aggregated_donor1_binarized_matrix.csv\")\n",
    "    D2 = pd.read_csv(\"../CD8+TCellsDataset/vdj_v1_hs_aggregated_donor2_binarized_matrix.csv\")\n",
    "    D3 = pd.read_csv(\"../CD8+TCellsDataset/vdj_v1_hs_aggregated_donor3_binarized_matrix.csv\")\n",
    "    D4 = pd.read_csv(\"../CD8+TCellsDataset/vdj_v1_hs_aggregated_donor4_binarized_matrix.csv\")\n",
    "    \n",
    "    # extract amino acid sequences with 1 beta chain only \n",
    "    D1_aa_1beta = aa_one_beta_chain(D1)\n",
    "    D2_aa_1beta = aa_one_beta_chain(D2)\n",
    "    D3_aa_1beta = aa_one_beta_chain(D3)\n",
    "    D4_aa_1beta = aa_one_beta_chain(D4)\n",
    "    \n",
    "    # combine all the data from 4 donors into one big table \n",
    "    all_D = pd.concat([D1_aa_1beta, D2_aa_1beta, D3_aa_1beta, D4_aa_1beta], ignore_index=True, sort=False)\n",
    "    \n",
    "    table = all_D.select_dtypes('bool').join([all_D['aa_1TRB_only']])\n",
    "    \n",
    "    return table"
   ]
  },
  {
   "cell_type": "code",
   "execution_count": 5,
   "metadata": {
    "scrolled": true
   },
   "outputs": [
    {
     "name": "stderr",
     "output_type": "stream",
     "text": [
      "/Users/Pi/anaconda3/lib/python3.7/site-packages/ipykernel_launcher.py:14: SettingWithCopyWarning: \n",
      "A value is trying to be set on a copy of a slice from a DataFrame.\n",
      "Try using .loc[row_indexer,col_indexer] = value instead\n",
      "\n",
      "See the caveats in the documentation: https://pandas.pydata.org/pandas-docs/stable/user_guide/indexing.html#returning-a-view-versus-a-copy\n",
      "  \n",
      "/Users/Pi/anaconda3/lib/python3.7/site-packages/ipykernel_launcher.py:15: SettingWithCopyWarning: \n",
      "A value is trying to be set on a copy of a slice from a DataFrame.\n",
      "Try using .loc[row_indexer,col_indexer] = value instead\n",
      "\n",
      "See the caveats in the documentation: https://pandas.pydata.org/pandas-docs/stable/user_guide/indexing.html#returning-a-view-versus-a-copy\n",
      "  from ipykernel import kernelapp as app\n",
      "/Users/Pi/anaconda3/lib/python3.7/site-packages/ipykernel_launcher.py:16: SettingWithCopyWarning: \n",
      "A value is trying to be set on a copy of a slice from a DataFrame.\n",
      "Try using .loc[row_indexer,col_indexer] = value instead\n",
      "\n",
      "See the caveats in the documentation: https://pandas.pydata.org/pandas-docs/stable/user_guide/indexing.html#returning-a-view-versus-a-copy\n",
      "  app.launch_new_instance()\n",
      "/Users/Pi/anaconda3/lib/python3.7/site-packages/ipykernel_launcher.py:17: SettingWithCopyWarning: \n",
      "A value is trying to be set on a copy of a slice from a DataFrame.\n",
      "Try using .loc[row_indexer,col_indexer] = value instead\n",
      "\n",
      "See the caveats in the documentation: https://pandas.pydata.org/pandas-docs/stable/user_guide/indexing.html#returning-a-view-versus-a-copy\n"
     ]
    }
   ],
   "source": [
    "dt = extra_raw_data()"
   ]
  },
  {
   "cell_type": "code",
   "execution_count": 6,
   "metadata": {},
   "outputs": [],
   "source": [
    "# this function will return the virus antigen which the most binding cases \n",
    "# you can choose num_of_virus for any other number of virus antigens that you want \n",
    "\n",
    "def virus_with_most_true_cases (all_D_binder, num_of_virus = 1):\n",
    "\n",
    "    from numpy import empty\n",
    "    binder_count = empty([len(all_D_binder.columns),2])\n",
    "\n",
    "    for k in range(0,len(all_D_binder.columns)):\n",
    "        binder_count[k][0]= (all_D_binder[all_D_binder.columns[k]]).sum()\n",
    "        binder_count[k][1]= (~all_D_binder[all_D_binder.columns[k]]).sum()\n",
    "        \n",
    "    sorted(range(len(binder_count)), key=lambda x: binder_count[x][0])\n",
    "    max_loc = sorted(range(len(binder_count)), key=lambda x: binder_count[x][0])[-num_of_virus:]\n",
    "    \n",
    "    all_D_binder.iloc[:,max_loc]\n",
    "    \n",
    "    return all_D_binder.iloc[:,max_loc]"
   ]
  },
  {
   "cell_type": "code",
   "execution_count": 7,
   "metadata": {},
   "outputs": [],
   "source": [
    "def generate_balanced_aa_antigen_table(dt): \n",
    "    \n",
    "    # pick the virus with the most binding cases\n",
    "    virus_with_most_binding =  virus_with_most_true_cases(dt.select_dtypes('bool'), num_of_virus = 1)\n",
    "    \n",
    "    # combine the amino-acid sequence and the particular virus antigen that you are interested \n",
    "    aa_antigen_table = dt[list(virus_with_most_binding)].join([dt['aa_1TRB_only']])\n",
    "    \n",
    "    \n",
    "    # find the antigen with the most binding cases \n",
    "#     print(aa_antigen_table.columns[0].replace('_binder', '') + ' has the most true binding cases') \n",
    "#     aa_antigen_table[aa_antigen_table.columns[0]].value_counts().sort_index().plot.bar()\n",
    "\n",
    "    # since the data is unbalanced, we need to balance the data by randomly selecting the same amount of true cases from the false cases\n",
    "    aa_antigen_table_false = aa_antigen_table[aa_antigen_table[aa_antigen_table.columns[0]] == False]\n",
    "    aa_antigen_table_true = aa_antigen_table[aa_antigen_table[aa_antigen_table.columns[0]] == True]\n",
    "    aa_antigen_table_false_random_sample = aa_antigen_table_false.sample(n = len(aa_antigen_table_true))\n",
    "    balanced_aa_antigen_table = pd.concat([aa_antigen_table_false_random_sample, aa_antigen_table_true], ignore_index=True, sort=False)\n",
    "\n",
    "#     print(balanced_aa_antigen_table.columns[0].replace('_binder', '') + ' has the most binding cases and is balanced as shown below') \n",
    "# #     balanced_aa_antigen_table[balanced_aa_antigen_table.columns[0]].value_counts().sort_index().plot.bar()\n",
    "    \n",
    "    # re-label \n",
    "    balanced_aa_antigen_table[\"classes\"] = balanced_aa_antigen_table[balanced_aa_antigen_table.columns[0]].astype(int)\n",
    "    balanced_aa_antigen_table = balanced_aa_antigen_table[{'aa_1TRB_only', 'classes'}]\n",
    "    \n",
    "    return balanced_aa_antigen_table\n",
    "    "
   ]
  },
  {
   "cell_type": "code",
   "execution_count": 15,
   "metadata": {},
   "outputs": [],
   "source": [
    "balanced_aa_antigen_table = generate_balanced_aa_antigen_table(dt)"
   ]
  },
  {
   "cell_type": "code",
   "execution_count": 16,
   "metadata": {},
   "outputs": [],
   "source": []
  },
  {
   "cell_type": "code",
   "execution_count": 20,
   "metadata": {},
   "outputs": [],
   "source": [
    "\n",
    "\n"
   ]
  },
  {
   "cell_type": "code",
   "execution_count": null,
   "metadata": {},
   "outputs": [],
   "source": []
  },
  {
   "cell_type": "code",
   "execution_count": null,
   "metadata": {},
   "outputs": [],
   "source": []
  }
 ],
 "metadata": {
  "kernelspec": {
   "display_name": "Python 3",
   "language": "python",
   "name": "python3"
  },
  "language_info": {
   "codemirror_mode": {
    "name": "ipython",
    "version": 3
   },
   "file_extension": ".py",
   "mimetype": "text/x-python",
   "name": "python",
   "nbconvert_exporter": "python",
   "pygments_lexer": "ipython3",
   "version": "3.7.6"
  }
 },
 "nbformat": 4,
 "nbformat_minor": 4
}
